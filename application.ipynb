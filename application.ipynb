{
 "cells": [
  {
   "cell_type": "code",
   "execution_count": 1,
   "metadata": {},
   "outputs": [
    {
     "name": "stderr",
     "output_type": "stream",
     "text": [
      "Using TensorFlow backend.\n"
     ]
    }
   ],
   "source": [
    "import numpy as np\n",
    "import matplotlib.pyplot as plt\n",
    "%matplotlib inline\n",
    "\n",
    "import sys\n",
    "sys.path.insert(0, \"/home/lars/libraries/keras/\")\n",
    "from keras.preprocessing.image import *"
   ]
  },
  {
   "cell_type": "code",
   "execution_count": 2,
   "metadata": {
    "collapsed": true
   },
   "outputs": [],
   "source": [
    "img = np.zeros((1000,1000,3))\n",
    "img[400:600, 400:600, :]=1\n",
    "\n",
    "img[300:400, 100:200, :]=1"
   ]
  },
  {
   "cell_type": "code",
   "execution_count": 3,
   "metadata": {
    "collapsed": true
   },
   "outputs": [],
   "source": [
    "def draw_boxes(img, boxes, size=10):\n",
    "    draw_img = img.copy()\n",
    "    for box in boxes:\n",
    "        x_min, y_min, x_max, y_max = box\n",
    "        dim_x, dim_y = draw_img.shape[:2]\n",
    "        x_min = int(x_min * dim_x)\n",
    "        x_max = int(x_max * dim_x)\n",
    "        y_min = int(y_min * dim_y)\n",
    "        y_max = int(y_max * dim_y)\n",
    "        \n",
    "        x_min = max(0, x_min)\n",
    "        x_max = min(dim_x, x_max)\n",
    "        y_min = max(0, y_min)\n",
    "        y_max = min(dim_y, y_max)\n",
    "\n",
    "        draw_img[x_min:x_min+size, y_min:y_max]=[1,0,0]\n",
    "        draw_img[x_max-size:x_max, y_min:y_max]=[1,0,0]\n",
    "        draw_img[x_min:x_max, y_min:y_min+size]=[1,0,0]\n",
    "        draw_img[x_min:x_max, y_max-size:y_max]=[1,0,0]\n",
    "    return draw_img\n",
    "\n",
    "def draw_verts(img, verts, size=10):\n",
    "    draw_img = img.copy()\n",
    "    for vert in verts:\n",
    "        \n",
    "        x, y = vert\n",
    "        dim_x, dim_y = draw_img.shape[:2]\n",
    "        x_min = int(x * dim_x)\n",
    "        x_max = int(x * dim_x)\n",
    "        y_min = int(y * dim_y)\n",
    "        y_max = int(y * dim_y)\n",
    "        \n",
    "        x_min = x_min-size\n",
    "        x_max = x_max+size\n",
    "        y_min = y_min-size\n",
    "        y_max = y_max+size\n",
    "        \n",
    "        x_min = max(1, x_min)\n",
    "        x_max = min(dim_x, x_max)\n",
    "        y_min = max(1, y_min)\n",
    "        y_max = min(dim_y, y_max)\n",
    "        \n",
    "        draw_img[x_min:x_max, y_min:y_max]=[0,1,0]\n",
    "    return draw_img"
   ]
  },
  {
   "cell_type": "code",
   "execution_count": 4,
   "metadata": {
    "collapsed": true
   },
   "outputs": [],
   "source": [
    "boxes = np.array([[0.4, 0.4, 0.6, 0.6],\n",
    "                 [0.3, 0.1, 0.4, 0.2]])\n",
    "\n",
    "vertices = boxes_to_vertices(boxes)\n",
    "vertices = vertices.reshape((-1, 2))"
   ]
  },
  {
   "cell_type": "code",
   "execution_count": 5,
   "metadata": {},
   "outputs": [
    {
     "data": {
      "text/plain": [
       "<matplotlib.image.AxesImage at 0x7fbbf89b1dd8>"
      ]
     },
     "execution_count": 5,
     "metadata": {},
     "output_type": "execute_result"
    },
    {
     "data": {
      "image/png": "[encoded data removed]",
      "text/plain": [
       "<matplotlib.figure.Figure at 0x7fbbf8bb69b0>"
      ]
     },
     "metadata": {},
     "output_type": "display_data"
    }
   ],
   "source": [
    "draw_img =draw_boxes(img, boxes, 10)\n",
    "draw_img = draw_verts(draw_img, vertices, 10)\n",
    "plt.imshow(draw_img)"
   ]
  },
  {
   "cell_type": "code",
   "execution_count": 6,
   "metadata": {
    "collapsed": true
   },
   "outputs": [],
   "source": [
    "new_img = img[:, ::-1]\n",
    "new_boxes = [(x_min, 1-y_max, x_max, 1-y_min) for (x_min, y_min, x_max, y_max) in boxes]\n",
    "new_vertices = boxes_to_vertices(np.array(new_boxes)).reshape((-1,2))"
   ]
  },
  {
   "cell_type": "code",
   "execution_count": 7,
   "metadata": {},
   "outputs": [
    {
     "data": {
      "text/plain": [
       "<matplotlib.image.AxesImage at 0x7fbbf8ad5c18>"
      ]
     },
     "execution_count": 7,
     "metadata": {},
     "output_type": "execute_result"
    },
    {
     "data": {
      "image/png": "[encoded data removed]",
      "text/plain": [
       "<matplotlib.figure.Figure at 0x7fbc54277908>"
      ]
     },
     "metadata": {},
     "output_type": "display_data"
    }
   ],
   "source": [
    "draw_img = draw_boxes(new_img, new_boxes, 10)\n",
    "draw_img = draw_verts(draw_img, new_vertices, 10)\n",
    "plt.imshow(draw_img)"
   ]
  },
  {
   "cell_type": "code",
   "execution_count": 8,
   "metadata": {
    "collapsed": true
   },
   "outputs": [],
   "source": [
    "new_img, new_boxes, new_vertices = random_rotation_with_boxes(img, boxes, 180, row_axis=0, col_axis=1, channel_axis=2)"
   ]
  },
  {
   "cell_type": "code",
   "execution_count": 9,
   "metadata": {},
   "outputs": [
    {
     "data": {
      "text/plain": [
       "<matplotlib.image.AxesImage at 0x7fbbf8ac4c50>"
      ]
     },
     "execution_count": 9,
     "metadata": {},
     "output_type": "execute_result"
    },
    {
     "data": {
      "image/png": "[encoded data removed]",
      "text/plain": [
       "<matplotlib.figure.Figure at 0x7fbbf8ae7780>"
      ]
     },
     "metadata": {},
     "output_type": "display_data"
    }
   ],
   "source": [
    "draw_img = draw_boxes(new_img, new_boxes, 10)\n",
    "draw_img = draw_verts(draw_img, new_vertices, 10)\n",
    "plt.imshow(draw_img)"
   ]
  },
  {
   "cell_type": "code",
   "execution_count": 10,
   "metadata": {
    "collapsed": true
   },
   "outputs": [],
   "source": [
    "new_img, new_boxes, new_vertices = random_zoom_with_boxes(img, boxes, (0.5,1.5), row_axis=0, col_axis=1, channel_axis=2)"
   ]
  },
  {
   "cell_type": "code",
   "execution_count": 11,
   "metadata": {},
   "outputs": [
    {
     "data": {
      "text/plain": [
       "<matplotlib.image.AxesImage at 0x7fbbf8a24b00>"
      ]
     },
     "execution_count": 11,
     "metadata": {},
     "output_type": "execute_result"
    },
    {
     "data": {
      "image/png": "[encoded data removed]",
      "text/plain": [
       "<matplotlib.figure.Figure at 0x7fbc038ba7f0>"
      ]
     },
     "metadata": {},
     "output_type": "display_data"
    }
   ],
   "source": [
    "draw_img = draw_boxes(new_img, new_boxes, 10)\n",
    "draw_img = draw_verts(draw_img, new_vertices, 10)\n",
    "plt.imshow(draw_img)"
   ]
  },
  {
   "cell_type": "code",
   "execution_count": 60,
   "metadata": {},
   "outputs": [],
   "source": [
    "temp_vertices = vertices - [0.5, 0.5]\n",
    "new_img, new_vertices = random_transform_with_vertices(img, temp_vertices,10, 0.1, 0.1, (0.5,1.5), row_axis=0, col_axis=1, channel_axis=2)\n",
    "new_vertices = new_vertices + [0.5, 0.5]\n",
    "new_boxes = vertices_to_boxes(new_vertices)"
   ]
  },
  {
   "cell_type": "code",
   "execution_count": 61,
   "metadata": {},
   "outputs": [
    {
     "data": {
      "text/plain": [
       "<matplotlib.image.AxesImage at 0x7fbbf6958f28>"
      ]
     },
     "execution_count": 61,
     "metadata": {},
     "output_type": "execute_result"
    },
    {
     "data": {
      "image/png": "[encoded data removed]",
      "text/plain": [
       "<matplotlib.figure.Figure at 0x7fbbf6c05a20>"
      ]
     },
     "metadata": {},
     "output_type": "display_data"
    }
   ],
   "source": [
    "draw_img = draw_boxes(new_img, new_boxes, 10)\n",
    "draw_img = draw_verts(draw_img, new_vertices, 10)\n",
    "plt.imshow(draw_img)"
   ]
  },
  {
   "cell_type": "code",
   "execution_count": null,
   "metadata": {
    "collapsed": true
   },
   "outputs": [],
   "source": []
  }
 ],
 "metadata": {
  "kernelspec": {
   "display_name": "Python 3",
   "language": "python",
   "name": "python3"
  },
  "language_info": {
   "codemirror_mode": {
    "name": "ipython",
    "version": 3
   },
   "file_extension": ".py",
   "mimetype": "text/x-python",
   "name": "python",
   "nbconvert_exporter": "python",
   "pygments_lexer": "ipython3",
   "version": "3.5.2"
  }
 },
 "nbformat": 4,
 "nbformat_minor": 2
}

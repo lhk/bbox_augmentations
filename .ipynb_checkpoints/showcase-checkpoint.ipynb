{
 "cells": [
  {
   "cell_type": "markdown",
   "metadata": {},
   "source": [
    "## The usual imports"
   ]
  },
  {
   "cell_type": "code",
   "execution_count": 1,
   "metadata": {
    "collapsed": true
   },
   "outputs": [],
   "source": [
    "# the usual imports\n",
    "import numpy as np\n",
    "\n",
    "import matplotlib.pyplot as plt\n",
    "%matplotlib inline\n",
    "\n",
    "import cv2"
   ]
  },
  {
   "cell_type": "markdown",
   "metadata": {},
   "source": [
    "## Loading data"
   ]
  },
  {
   "cell_type": "code",
   "execution_count": 2,
   "metadata": {
    "collapsed": true
   },
   "outputs": [],
   "source": [
    "# some helper functions\n",
    "# they can write rectangles on numpy arrays\n",
    "from utils.plot_utils import draw_rect, create_canvas, draw_point"
   ]
  },
  {
   "cell_type": "code",
   "execution_count": 3,
   "metadata": {},
   "outputs": [],
   "source": [
    "canvas = create_canvas(colored=True)\n",
    "\n",
    "label = 1\n",
    "rect = [0.5, 0.5, 0.8, 0.4]\n",
    "annotation = [label, *rect]\n",
    "\n",
    "canvas = draw_rect(canvas, rect, color=(1, 0, 0), thickness=1)"
   ]
  },
  {
   "cell_type": "code",
   "execution_count": 4,
   "metadata": {},
   "outputs": [
    {
     "data": {
      "image/png": "[encoded data removed]",
      "text/plain": [
       "<matplotlib.figure.Figure at 0x7f6ae6b341d0>"
      ]
     },
     "metadata": {},
     "output_type": "display_data"
    }
   ],
   "source": [
    "plt.imshow(canvas)\n",
    "plt.show()"
   ]
  },
  {
   "cell_type": "markdown",
   "metadata": {},
   "source": [
    "## Extracting and drawing vertices"
   ]
  },
  {
   "cell_type": "code",
   "execution_count": 5,
   "metadata": {
    "collapsed": true
   },
   "outputs": [],
   "source": [
    "# converting between different formats of bounding boxes\n",
    "from utils.object import minmax_to_wh, wh_to_minmax\n",
    "\n",
    "# splitting labels from bounding boxes and adding the labels back again\n",
    "from utils.object import split, merge\n",
    "\n",
    "# converting boxes to vertices and vertices to boxes\n",
    "from utils.bbox import boxes_to_vertices, vertices_to_boxes"
   ]
  },
  {
   "cell_type": "code",
   "execution_count": 6,
   "metadata": {},
   "outputs": [],
   "source": [
    "# the annotations are stored in the format: x, y, width, height\n",
    "# for the augmentation we need : x_min, y_min, x_max, y_max\n",
    "# conversion is done by the library\n",
    "annotations = [annotation]\n",
    "annotations_minmax = wh_to_minmax(annotations)"
   ]
  },
  {
   "cell_type": "code",
   "execution_count": 7,
   "metadata": {},
   "outputs": [],
   "source": [
    "# the split functions separates the annotations into labels and rectangles\n",
    "labels, rects = split(annotations_minmax)\n",
    "\n",
    "# now we convert every rectangle into 4 vertices\n",
    "rects = np.array(rects)\n",
    "vertices = boxes_to_vertices(rects)"
   ]
  },
  {
   "cell_type": "code",
   "execution_count": 8,
   "metadata": {},
   "outputs": [
    {
     "data": {
      "text/plain": [
       "(1, 4, 2)"
      ]
     },
     "execution_count": 8,
     "metadata": {},
     "output_type": "execute_result"
    }
   ],
   "source": [
    "# the resulting vertices array has 3 dimensions\n",
    "# first axis: enumerates the boxes\n",
    "# second axis: enumerates the vertices, always 4 for the 4 corners\n",
    "# third axis: x and y\n",
    "\n",
    "# we have just one rectangle in this demo, so the first dimension is 1\n",
    "vertices.shape"
   ]
  },
  {
   "cell_type": "code",
   "execution_count": 9,
   "metadata": {
    "collapsed": true
   },
   "outputs": [],
   "source": [
    "# for the rest of the code, we actually need to have a 2D array\n",
    "# we apply the transformations along the first axis in parallel\n",
    "# because of this technical detail, the vertices need to be stacked along this axis\n",
    "vertices = vertices.reshape([-1, 2])"
   ]
  },
  {
   "cell_type": "code",
   "execution_count": 10,
   "metadata": {},
   "outputs": [],
   "source": [
    "c1 = canvas.copy()\n",
    "\n",
    "for point in vertices:\n",
    "    draw_point(c1, point, color=(0, 1, 0), thickness = 2)"
   ]
  },
  {
   "cell_type": "code",
   "execution_count": 11,
   "metadata": {},
   "outputs": [
    {
     "data": {
      "image/png": "[encoded data removed]",
      "text/plain": [
       "<matplotlib.figure.Figure at 0x7f6acbdfdc88>"
      ]
     },
     "metadata": {},
     "output_type": "display_data"
    }
   ],
   "source": [
    "plt.imshow(c1)\n",
    "plt.show()"
   ]
  },
  {
   "cell_type": "markdown",
   "metadata": {},
   "source": [
    "## Augmenting the image and the vertices\n",
    "For the augmentation, I've taken the code from Keras' random_transform and added support to apply the same transformation matrices to vertices"
   ]
  },
  {
   "cell_type": "code",
   "execution_count": 12,
   "metadata": {},
   "outputs": [
    {
     "name": "stderr",
     "output_type": "stream",
     "text": [
      "Using TensorFlow backend.\n"
     ]
    }
   ],
   "source": [
    "from augmentations import random_transform_with_vertices"
   ]
  },
  {
   "cell_type": "code",
   "execution_count": 13,
   "metadata": {},
   "outputs": [],
   "source": [
    "# move origin to [0.5, 0.5]\n",
    "vertices -= [0.5, 0.5]\n",
    "\n",
    "# apply image transformations\n",
    "canvas_augmented, vertices_augmented = random_transform_with_vertices(canvas.copy(), vertices.copy(),\n",
    "                                               rg= 30, \n",
    "                                               wrg=0.1, hrg=0.1, \n",
    "                                               zoom_range=(0.9, 1.1), \n",
    "                                               row_axis=0, col_axis=1, channel_axis=2)\n",
    "\n",
    "vertices_augmented += [0.5, 0.5]\n",
    "# clip to allowed range\n",
    "vertices_augmented = np.clip(vertices_augmented, 0, 1)"
   ]
  },
  {
   "cell_type": "code",
   "execution_count": 14,
   "metadata": {},
   "outputs": [],
   "source": [
    "c2 = canvas_augmented.copy()\n",
    "\n",
    "for point in vertices_augmented:\n",
    "    draw_point(c2, point, color=(0, 1, 0), thickness = 2)"
   ]
  },
  {
   "cell_type": "code",
   "execution_count": 15,
   "metadata": {},
   "outputs": [
    {
     "data": {
      "image/png": "[encoded data removed]",
      "text/plain": [
       "<matplotlib.figure.Figure at 0x7f6acbde0780>"
      ]
     },
     "metadata": {},
     "output_type": "display_data"
    }
   ],
   "source": [
    "plt.imshow(c2)\n",
    "plt.show()"
   ]
  },
  {
   "cell_type": "markdown",
   "metadata": {},
   "source": [
    "## Convert back to a bounding box\n",
    "We have the vertices transformed along with the original image.\n",
    "But we need to put a bounding box around this."
   ]
  },
  {
   "cell_type": "code",
   "execution_count": 16,
   "metadata": {},
   "outputs": [],
   "source": [
    "# get the augmented coordinates\n",
    "coords = vertices_to_boxes(vertices_augmented)\n",
    "\n",
    "# zip this back together with the original labels\n",
    "objects = merge(labels, coords)\n",
    "\n",
    "# conver to the original width-height format\n",
    "objects = minmax_to_wh(objects)"
   ]
  },
  {
   "cell_type": "code",
   "execution_count": 19,
   "metadata": {},
   "outputs": [],
   "source": [
    "c3 = c2.copy()\n",
    "\n",
    "for obj in objects:\n",
    "    rect = obj[1:]\n",
    "    c3 = draw_rect(c3, rect, color=(0, 0, 1), thickness=1)"
   ]
  },
  {
   "cell_type": "code",
   "execution_count": 20,
   "metadata": {},
   "outputs": [
    {
     "data": {
      "image/png": "[encoded data removed]",
      "text/plain": [
       "<matplotlib.figure.Figure at 0x7f6a960cbdd8>"
      ]
     },
     "metadata": {},
     "output_type": "display_data"
    }
   ],
   "source": [
    "plt.imshow(c3)\n",
    "plt.show()"
   ]
  },
  {
   "cell_type": "code",
   "execution_count": null,
   "metadata": {
    "collapsed": true
   },
   "outputs": [],
   "source": []
  }
 ],
 "metadata": {
  "kernelspec": {
   "display_name": "Python 3",
   "language": "python",
   "name": "python3"
  },
  "language_info": {
   "codemirror_mode": {
    "name": "ipython",
    "version": 3
   },
   "file_extension": ".py",
   "mimetype": "text/x-python",
   "name": "python",
   "nbconvert_exporter": "python",
   "pygments_lexer": "ipython3",
   "version": "3.5.2"
  }
 },
 "nbformat": 4,
 "nbformat_minor": 2
}

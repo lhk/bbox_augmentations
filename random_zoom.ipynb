{
 "cells": [
  {
   "cell_type": "code",
   "execution_count": 1,
   "metadata": {},
   "outputs": [
    {
     "name": "stderr",
     "output_type": "stream",
     "text": [
      "Using TensorFlow backend.\n"
     ]
    }
   ],
   "source": [
    "import numpy as np\n",
    "import matplotlib.pyplot as plt\n",
    "%matplotlib inline\n",
    "\n",
    "import sys\n",
    "sys.path.insert(0, \"/home/lars/libraries/keras/\")\n",
    "from keras.preprocessing.image import *"
   ]
  },
  {
   "cell_type": "code",
   "execution_count": 2,
   "metadata": {
    "collapsed": true
   },
   "outputs": [],
   "source": [
    "img = np.zeros((1000,1000,3))\n",
    "img[400:600, 400:600, :]=1\n",
    "\n",
    "img[300:400, 100:200, :]=1"
   ]
  },
  {
   "cell_type": "code",
   "execution_count": 68,
   "metadata": {
    "collapsed": true
   },
   "outputs": [],
   "source": [
    "def draw_boxes(img, boxes, size=10):\n",
    "    draw_img = img.copy()\n",
    "    for box in boxes:\n",
    "        x_min, y_min, x_max, y_max = box\n",
    "        dim_x, dim_y = draw_img.shape[:2]\n",
    "        x_min = int(x_min * dim_x)\n",
    "        x_max = int(x_max * dim_x)\n",
    "        y_min = int(y_min * dim_y)\n",
    "        y_max = int(y_max * dim_y)\n",
    "        \n",
    "        x_min = max(0, x_min)\n",
    "        x_max = min(dim_x, x_max)\n",
    "        y_min = max(0, y_min)\n",
    "        y_max = min(dim_y, y_max)\n",
    "\n",
    "        draw_img[x_min:x_min+size, y_min:y_max]=[1,0,0]\n",
    "        draw_img[x_max-size:x_max, y_min:y_max]=[1,0,0]\n",
    "        draw_img[x_min:x_max, y_min:y_min+size]=[1,0,0]\n",
    "        draw_img[x_min:x_max, y_max-size:y_max]=[1,0,0]\n",
    "    return draw_img\n",
    "\n",
    "def draw_verts(img, verts, size=10):\n",
    "    draw_img = img.copy()\n",
    "    for vert in verts:\n",
    "        \n",
    "        x, y = vert\n",
    "        dim_x, dim_y = draw_img.shape[:2]\n",
    "        x_min = int(x * dim_x)\n",
    "        x_max = int(x * dim_x)\n",
    "        y_min = int(y * dim_y)\n",
    "        y_max = int(y * dim_y)\n",
    "        \n",
    "        x_min = x_min-size\n",
    "        x_max = x_max+size\n",
    "        y_min = y_min-size\n",
    "        y_max = y_max+size\n",
    "        \n",
    "        x_min = max(1, x_min)\n",
    "        x_max = min(dim_x, x_max)\n",
    "        y_min = max(1, y_min)\n",
    "        y_max = min(dim_y, y_max)\n",
    "        \n",
    "        draw_img[x_min:x_max, y_min:y_max]=[0,1,0]\n",
    "    return draw_img"
   ]
  },
  {
   "cell_type": "code",
   "execution_count": 69,
   "metadata": {
    "collapsed": true
   },
   "outputs": [],
   "source": [
    "def boxes_to_vertices(boxes):\n",
    "    \"\"\"\n",
    "    Takes a list of bounding boxes and creates a list of vertices\n",
    "    The output shape is [number of boxes, 4, 2]\n",
    "    4 for the 4 vertices,\n",
    "    2 for x/y\n",
    "    :param boxes: Input tensor, must be 2D\n",
    "    :return: output tensor, 3D\n",
    "    \"\"\"\n",
    "\n",
    "    assert len(boxes.shape) == 2, \"boxes must be a 2D tensor\"\n",
    "    assert boxes.shape[1] == 4, \"boxes must be [:, 4] tensor\"\n",
    "\n",
    "    min_val = boxes.min()\n",
    "    max_val = boxes.max()\n",
    "    assert 0 <= min_val <= 1, \"bounding box coordinates must be in [0,1]\"\n",
    "    assert 0 <= max_val <= 1, \"bounding box coordinates must be in [0,1]\"\n",
    "\n",
    "    num_boxes = boxes.shape[0]\n",
    "\n",
    "    # look at the four vertices of each box\n",
    "    x_min = boxes[:, 0]\n",
    "    y_min = boxes[:, 1]\n",
    "    x_max = boxes[:, 2]\n",
    "    y_max = boxes[:, 3]\n",
    "\n",
    "    assert np.all(x_min < x_max), \"coordinates must be given as [xmin, ymin, xmax, ymax\"\n",
    "    assert np.all(y_min < y_max), \"coordinates must be given as [xmin, ymin, xmax, ymax\"\n",
    "\n",
    "    # create new axis to stack the x,y coordinates\n",
    "    x_min = np.expand_dims(x_min, axis=-1)\n",
    "    y_min = np.expand_dims(y_min, axis=-1)\n",
    "    x_max = np.expand_dims(x_max, axis=-1)\n",
    "    y_max = np.expand_dims(y_max, axis=-1)\n",
    "\n",
    "    # stack the x,y coordinates to create the vertices\n",
    "    # the resulting arrays are indexed [idx of box, idx of x or y]\n",
    "    up_left = np.concatenate([x_min, y_min], axis=-1)\n",
    "    up_right = np.concatenate([x_min, y_max], axis=-1)\n",
    "    down_right = np.concatenate([x_max, y_max], axis=-1)\n",
    "    down_left = np.concatenate([x_max, y_min], axis=-1)\n",
    "\n",
    "    # now stack the vertices, along axis 1\n",
    "    up_left = np.expand_dims(up_left, axis=1)\n",
    "    up_right = np.expand_dims(up_right, axis=1)\n",
    "    down_right = np.expand_dims(down_right, axis=1)\n",
    "    down_left = np.expand_dims(down_left, axis=1)\n",
    "\n",
    "    # create an array of all vertices, of all boxes\n",
    "    # the shape is [number of boxes, number of vertices, number of coordinates]\n",
    "    # ->  shape is [number of boxes, 4, 2]\n",
    "    vertices = np.concatenate([up_left, up_right, down_right, down_left], axis=1)\n",
    "\n",
    "    return vertices\n",
    "\n",
    "def vertices_to_boxes(vertices):\n",
    "    \"\"\"\n",
    "    Takes a list of vertices and converts them to bounding boxes\n",
    "    :param vertices: Input tensor, must be 2D\n",
    "    :return: output tensor, 2D\n",
    "    \"\"\"\n",
    "\n",
    "    assert len(vertices.shape)==2, \"vertices must be a 2D tensor\"\n",
    "    assert vertices.shape[1]==2, \"vertices must be [:, 2] tensor\"\n",
    "\n",
    "    vertices = vertices.reshape((-1, 4, 2))\n",
    "\n",
    "    x = vertices[:, :, 0]\n",
    "    y = vertices[:, :, 1]\n",
    "\n",
    "    x_min = x.min(axis=-1)\n",
    "    x_max = x.max(axis=-1)\n",
    "    y_min = y.min(axis=-1)\n",
    "    y_max = y.max(axis=-1)\n",
    "\n",
    "    x_min = np.expand_dims(x_min, axis=-1)\n",
    "    x_max = np.expand_dims(x_max, axis=-1)\n",
    "    y_min = np.expand_dims(y_min, axis=-1)\n",
    "    y_max = np.expand_dims(y_max, axis=-1)\n",
    "\n",
    "    boxes = np.concatenate([x_min, y_min, x_max, y_max], axis=-1)\n",
    "\n",
    "    return boxes"
   ]
  },
  {
   "cell_type": "code",
   "execution_count": 70,
   "metadata": {
    "collapsed": true
   },
   "outputs": [],
   "source": [
    "boxes = np.array([[0.4, 0.4, 0.6, 0.6],\n",
    "                 [0.3, 0.1, 0.4, 0.2]])\n",
    "\n",
    "vertices = boxes_to_vertices(boxes)\n",
    "vertices = vertices.reshape((-1, 2))"
   ]
  },
  {
   "cell_type": "code",
   "execution_count": 71,
   "metadata": {},
   "outputs": [
    {
     "data": {
      "text/plain": [
       "<matplotlib.image.AxesImage at 0x7f5efacc4cc0>"
      ]
     },
     "execution_count": 71,
     "metadata": {},
     "output_type": "execute_result"
    },
    {
     "data": {
      "image/png": "[encoded data removed]",
      "text/plain": [
       "<matplotlib.figure.Figure at 0x7f5efae7dcc0>"
      ]
     },
     "metadata": {},
     "output_type": "display_data"
    }
   ],
   "source": [
    "draw_img =draw_boxes(img, boxes, 10)\n",
    "draw_img = draw_verts(draw_img, vertices, 10)\n",
    "plt.imshow(draw_img)"
   ]
  },
  {
   "cell_type": "code",
   "execution_count": 87,
   "metadata": {},
   "outputs": [],
   "source": [
    "row_axis = 0\n",
    "col_axis = 1\n",
    "channel_axis = 2\n",
    "fill_mode = \"nearest\"\n",
    "cval = 0.\n",
    "\n",
    "zoom_range=(0.5,1.5)\n",
    "\n",
    "if zoom_range[0] == 1 and zoom_range[1] == 1:\n",
    "    zx, zy = 1, 1\n",
    "else:\n",
    "    zx, zy = np.random.uniform(zoom_range[0], zoom_range[1], 2)\n",
    "    \n",
    "zx = 0.5\n",
    "zy = 0.2\n",
    "zoom_matrix = np.array([[zx, 0, 0],\n",
    "                        [0, zy, 0],\n",
    "                        [0, 0, 1]])\n",
    "\n",
    "h, w = img.shape[row_axis], img.shape[col_axis]\n",
    "transform_matrix = transform_matrix_offset_center(zoom_matrix, h, w)\n",
    "new_img = apply_transform(img, transform_matrix, channel_axis, fill_mode, cval)"
   ]
  },
  {
   "cell_type": "code",
   "execution_count": 88,
   "metadata": {
    "collapsed": true
   },
   "outputs": [],
   "source": [
    "# apply to vertices\n",
    "new_vertices = boxes_to_vertices(boxes.copy())\n",
    "new_vertices = new_vertices.reshape((-1, 2))\n",
    "\n",
    "\"\"\"\n",
    "homog_vertices = np.ones((vertices.shape[0], 3))\n",
    "homog_vertices[:,:2]=vertices\n",
    "\n",
    "offset_matrix = np.array([[1,0,-0.5], [0,1,-0.5], [0,0,1]])\n",
    "zoom_matrix = np.array([[zy, 0, 0],\n",
    "                        [0, zx, 0],\n",
    "                        [0, 0, 1]])\n",
    "reset_matrix = np.array([[1,0,0.5], [0,1,0.5], [0,0,1]])\n",
    "v_matrix = np.dot(np.dot(offset_matrix, zoom_matrix), reset_matrix)\n",
    "\n",
    "homog_vertices = np.dot(homog_vertices, v_matrix)\n",
    "homog_boxes = vertices_to_boxes(homog_vertices[:, :2])\n",
    "\"\"\"\n",
    "# apply offset to have pivot point at [0.5, 0.5]\n",
    "new_vertices -= [0.5, 0.5]\n",
    "\n",
    "# apply zoom, we only need the zoom part of the matrix\n",
    "new_vertices *= [1/zx, 1/zy]\n",
    "new_vertices += [0.5, 0.5]\n",
    "\n",
    "new_boxes = vertices_to_boxes(new_vertices)\n"
   ]
  },
  {
   "cell_type": "code",
   "execution_count": 89,
   "metadata": {},
   "outputs": [
    {
     "data": {
      "text/plain": [
       "<matplotlib.image.AxesImage at 0x7f5efaa8ceb8>"
      ]
     },
     "execution_count": 89,
     "metadata": {},
     "output_type": "execute_result"
    },
    {
     "data": {
      "image/png": "[encoded data removed]",
      "text/plain": [
       "<matplotlib.figure.Figure at 0x7f5efaba42e8>"
      ]
     },
     "metadata": {},
     "output_type": "display_data"
    }
   ],
   "source": [
    "draw_img = draw_boxes(new_img, new_boxes)\n",
    "draw_img = draw_verts(draw_img, new_vertices)\n",
    "plt.imshow(draw_img)"
   ]
  },
  {
   "cell_type": "code",
   "execution_count": 80,
   "metadata": {},
   "outputs": [
    {
     "data": {
      "text/plain": [
       "array([[ 0.42065316,  0.41818683],\n",
       "       [ 0.42065316,  0.58181317],\n",
       "       [ 0.57934684,  0.58181317],\n",
       "       [ 0.57934684,  0.41818683],\n",
       "       [ 0.34130631,  0.1727473 ],\n",
       "       [ 0.34130631,  0.25456048],\n",
       "       [ 0.42065316,  0.25456048],\n",
       "       [ 0.42065316,  0.1727473 ]])"
      ]
     },
     "execution_count": 80,
     "metadata": {},
     "output_type": "execute_result"
    }
   ],
   "source": [
    "new_vertices"
   ]
  },
  {
   "cell_type": "code",
   "execution_count": null,
   "metadata": {
    "collapsed": true
   },
   "outputs": [],
   "source": []
  },
  {
   "cell_type": "code",
   "execution_count": null,
   "metadata": {
    "collapsed": true
   },
   "outputs": [],
   "source": []
  },
  {
   "cell_type": "code",
   "execution_count": null,
   "metadata": {
    "collapsed": true
   },
   "outputs": [],
   "source": []
  }
 ],
 "metadata": {
  "kernelspec": {
   "display_name": "Python 3",
   "language": "python",
   "name": "python3"
  },
  "language_info": {
   "codemirror_mode": {
    "name": "ipython",
    "version": 3
   },
   "file_extension": ".py",
   "mimetype": "text/x-python",
   "name": "python",
   "nbconvert_exporter": "python",
   "pygments_lexer": "ipython3",
   "version": "3.5.2"
  }
 },
 "nbformat": 4,
 "nbformat_minor": 2
}

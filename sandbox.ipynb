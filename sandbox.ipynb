{
 "cells": [
  {
   "cell_type": "code",
   "execution_count": 1,
   "metadata": {},
   "outputs": [
    {
     "name": "stderr",
     "output_type": "stream",
     "text": [
      "Using TensorFlow backend.\n"
     ]
    }
   ],
   "source": [
    "import numpy as np\n",
    "import matplotlib.pyplot as plt\n",
    "%matplotlib inline\n",
    "\n",
    "import tensorflow as tf\n",
    "\n",
    "from keras.preprocessing.image import *"
   ]
  },
  {
   "cell_type": "code",
   "execution_count": 3,
   "metadata": {},
   "outputs": [],
   "source": [
    "sess = tf.Session()"
   ]
  },
  {
   "cell_type": "code",
   "execution_count": 82,
   "metadata": {},
   "outputs": [],
   "source": [
    "img = np.zeros((1, 100,100,3))\n",
    "img[:, 40:60, 40:60, :]=1\n",
    "\n",
    "img[:, 30:40, 1:10, :]=1"
   ]
  },
  {
   "cell_type": "code",
   "execution_count": 83,
   "metadata": {},
   "outputs": [
    {
     "data": {
      "image/png": "[encoded data removed]",
      "text/plain": [
       "<matplotlib.figure.Figure at 0x7f661c5777b8>"
      ]
     },
     "metadata": {},
     "output_type": "display_data"
    }
   ],
   "source": [
    "plt.imshow(img[0])\n",
    "plt.show()"
   ]
  },
  {
   "cell_type": "code",
   "execution_count": 84,
   "metadata": {},
   "outputs": [
    {
     "data": {
      "text/plain": [
       "(1, 2, 4)"
      ]
     },
     "execution_count": 84,
     "metadata": {},
     "output_type": "execute_result"
    }
   ],
   "source": [
    "boxes = np.array([[0.4, 0.4, 0.6, 0.6],\n",
    "                 [0.3, 0.01, 0.4, 0.1]])\n",
    "boxes = np.expand_dims(boxes, 0)\n",
    "boxes.shape"
   ]
  },
  {
   "cell_type": "code",
   "execution_count": 85,
   "metadata": {},
   "outputs": [],
   "source": [
    "boxed_img = tf.image.draw_bounding_boxes(img, boxes)\n",
    "boxed_img = sess.run(boxed_img)"
   ]
  },
  {
   "cell_type": "code",
   "execution_count": 86,
   "metadata": {},
   "outputs": [
    {
     "data": {
      "text/plain": [
       "dtype('float32')"
      ]
     },
     "execution_count": 86,
     "metadata": {},
     "output_type": "execute_result"
    }
   ],
   "source": [
    "boxed_img.dtype"
   ]
  },
  {
   "cell_type": "code",
   "execution_count": 87,
   "metadata": {},
   "outputs": [
    {
     "data": {
      "text/plain": [
       "<matplotlib.image.AxesImage at 0x7f661c49cf60>"
      ]
     },
     "execution_count": 87,
     "metadata": {},
     "output_type": "execute_result"
    },
    {
     "data": {
      "image/png": "[encoded data removed]",
      "text/plain": [
       "<matplotlib.figure.Figure at 0x7f66241a5828>"
      ]
     },
     "metadata": {},
     "output_type": "display_data"
    }
   ],
   "source": [
    "plt.imshow(boxed_img[0,:,:])"
   ]
  },
  {
   "cell_type": "code",
   "execution_count": 88,
   "metadata": {},
   "outputs": [],
   "source": [
    "# look at boxes for one image\n",
    "boxes = boxes.reshape(-1, 4)\n",
    "\n",
    "num_boxes = boxes.shape[0]\n",
    "# look at the four vertices of each box\n",
    "up_left = boxes[:, :2] # xmin, ymin\n",
    "down_right = boxes[:, 2:] # xmax, ymax\n",
    "down_left = np.concatenate([boxes[:,0], boxes[:,-1]], axis=-1) # xmin, ymax\n",
    "down_left = down_left.reshape((-1, 2))\n",
    "up_right = np.concatenate([boxes[:,3], boxes[:,1]], axis=-1) # xmax, ymin\n",
    "up_right = up_right.reshape((-1, 2))\n",
    "\n",
    "x_min = boxes[:, 0]\n",
    "y_min = boxes[:, 1]\n",
    "x_max = boxes[:, 2]\n",
    "y_max = boxes[:, 3]\n",
    "\n",
    "# create new axis to stack the x,y coordinates\n",
    "x_min = np.expand_dims(x_min, axis=-1)\n",
    "y_min = np.expand_dims(y_min, axis=-1)\n",
    "x_max = np.expand_dims(x_max, axis=-1)\n",
    "y_max = np.expand_dims(y_max, axis=-1)\n",
    "\n",
    "# stack the x,y coordinates to create the vertices\n",
    "# the resulting arrays are indexed [idx of box, idx of x or y]\n",
    "up_left = np.concatenate([x_min, y_min], axis=-1)\n",
    "up_right = np.concatenate([x_min, y_max], axis=-1)\n",
    "down_right = np.concatenate([x_max, y_max], axis=-1)\n",
    "down_left = np.concatenate([x_max, y_min], axis=-1)\n",
    "\n",
    "# now stack the vertices, along axis 1\n",
    "up_left = np.expand_dims(up_left, axis=1)\n",
    "up_right = np.expand_dims(up_right, axis=1)\n",
    "down_right= np.expand_dims(down_right, axis=1)\n",
    "down_left = np.expand_dims(down_left, axis=1)\n",
    "\n",
    "# create an array of all vertices, of all boxes\n",
    "# the shape is [number of boxes, number of vertices, number of coordinates]\n",
    "# ->  shape is [number of boxes, 4, 2]\n",
    "vecs = np.concatenate([up_left, up_right, down_right, down_left], axis=1)"
   ]
  },
  {
   "cell_type": "code",
   "execution_count": 89,
   "metadata": {},
   "outputs": [
    {
     "data": {
      "text/plain": [
       "(2, 1, 2)"
      ]
     },
     "execution_count": 89,
     "metadata": {},
     "output_type": "execute_result"
    }
   ],
   "source": [
    "up_left.shape"
   ]
  },
  {
   "cell_type": "code",
   "execution_count": 90,
   "metadata": {},
   "outputs": [
    {
     "data": {
      "text/plain": [
       "(2, 4, 2)"
      ]
     },
     "execution_count": 90,
     "metadata": {},
     "output_type": "execute_result"
    }
   ],
   "source": [
    "vecs.shape"
   ]
  },
  {
   "cell_type": "code",
   "execution_count": 91,
   "metadata": {},
   "outputs": [
    {
     "data": {
      "text/plain": [
       "array([[ 0.4,  0.4,  0.6,  0.6],\n",
       "       [ 0.3,  0.3,  0.4,  0.4]])"
      ]
     },
     "execution_count": 91,
     "metadata": {},
     "output_type": "execute_result"
    }
   ],
   "source": [
    "vecs.reshape((num_boxes, 4, 2))[:,:,0]"
   ]
  },
  {
   "cell_type": "code",
   "execution_count": null,
   "metadata": {
    "collapsed": true
   },
   "outputs": [],
   "source": []
  },
  {
   "cell_type": "code",
   "execution_count": null,
   "metadata": {
    "collapsed": true
   },
   "outputs": [],
   "source": []
  },
  {
   "cell_type": "code",
   "execution_count": 92,
   "metadata": {
    "collapsed": true
   },
   "outputs": [],
   "source": [
    "import scipy.ndimage as ndi"
   ]
  },
  {
   "cell_type": "code",
   "execution_count": 103,
   "metadata": {
    "collapsed": true
   },
   "outputs": [],
   "source": [
    "# params\n",
    "fill_mode = \"nearest\"\n",
    "cval = 0\n",
    "channel_axis = 0\n",
    "rg = 10"
   ]
  },
  {
   "cell_type": "code",
   "execution_count": 104,
   "metadata": {},
   "outputs": [],
   "source": [
    "# sample a rotation matrix\n",
    "theta = np.pi / 180 * np.random.uniform(-rg, rg)\n",
    "theta = np.pi / 180 * 15\n",
    "rotation_matrix = np.array([[np.cos(theta), -np.sin(theta), 0],\n",
    "                            [np.sin(theta), np.cos(theta), 0],\n",
    "                            [0, 0, 1]])"
   ]
  },
  {
   "cell_type": "code",
   "execution_count": 105,
   "metadata": {},
   "outputs": [],
   "source": [
    "# apply to bounding box vectors\n",
    "h, w = 0.5, 0.5\n",
    "transform_matrix = transform_matrix_offset_center(rotation_matrix, h, w)\n",
    "#vecs = apply_transform(vecs, transform_matrix_vecs, channel_axis, fill_mode, cval)\n",
    "\n",
    "final_affine_matrix = transform_matrix[:2, :2]\n",
    "final_offset = transform_matrix[:2, 2]\n",
    "\n",
    "vec_rotation_matrix = rotation_matrix[:2, :2]"
   ]
  },
  {
   "cell_type": "code",
   "execution_count": 106,
   "metadata": {},
   "outputs": [],
   "source": [
    "new_vecs = vecs.copy()\n",
    "new_vecs = new_vecs.reshape((-1, 2))\n",
    "new_vecs -= [0.5, 0.5]\n",
    "new_vecs = np.dot(new_vecs, vec_rotation_matrix)\n",
    "new_vecs += [0.5, 0.5]\n",
    "\n",
    "new_vecs = new_vecs.reshape((num_boxes, 4, 2))\n",
    "x = new_vecs[:,:,0]\n",
    "y = new_vecs[:,:,1]\n",
    "x_min = x.min(axis=-1)\n",
    "x_max = x.max(axis=-1)\n",
    "y_min = y.min(axis=-1)\n",
    "y_max = y.max(axis=-1)\n",
    "\n",
    "x_min = np.expand_dims(x_min, axis=-1)\n",
    "x_max = np.expand_dims(x_max, axis=-1)\n",
    "y_min = np.expand_dims(y_min, axis=-1)\n",
    "y_max = np.expand_dims(y_max, axis=-1)\n",
    "\n",
    "new_boxes = np.concatenate([x_min, y_min, x_max, y_max], axis=-1)"
   ]
  },
  {
   "cell_type": "code",
   "execution_count": 107,
   "metadata": {},
   "outputs": [],
   "source": [
    "new_boxes = np.expand_dims(new_boxes, axis=0)"
   ]
  },
  {
   "cell_type": "markdown",
   "metadata": {},
   "source": [
    "num_boxes = vecs.shape[0]//4\n",
    "up_left = vecs[:num_boxes]\n",
    "down_right = vecs[num_boxes:num_boxes*2]\n",
    "down_left = vecs[num_boxes*2:num_boxes*3]\n",
    "up_right = vecs[num_boxes*3:num_boxes*4]\n",
    "\n",
    "x1 = vec1[:,0].reshape((-1,1))\n",
    "x2 = vec2[:,0].reshape((-1,1))\n",
    "x3 = vec3[:,0].reshape((-1,1))\n",
    "x4 = vec4[:,0].reshape((-1,1))\n",
    "x = np.concatenate([x1, x2, x3, x4], axis=-1)\n",
    "xmin = np.min(x, axis=-1)\n",
    "xmax = np.max(x, axis=-1)\n",
    "\n",
    "y1 = vec1[:,1].reshape((-1,1))\n",
    "y2 = vec2[:,1].reshape((-1,1))\n",
    "y3 = vec3[:,1].reshape((-1,1))\n",
    "y4 = vec4[:,1].reshape((-1,1))\n",
    "y = np.concatenate([y1, y2, y3, y4], axis=-1)\n",
    "ymin = np.min(y, axis=-1)\n",
    "ymax = np.max(y, axis=1)"
   ]
  },
  {
   "cell_type": "markdown",
   "metadata": {},
   "source": [
    "new_boxes = np.array([xmin, ymin, xmax, ymax])\n",
    "new_boxes = new_boxes.reshape((1,1,4))\n",
    "new_boxes"
   ]
  },
  {
   "cell_type": "code",
   "execution_count": 108,
   "metadata": {},
   "outputs": [],
   "source": [
    "# apply to bounding box vectors\n",
    "channel_axis= 2\n",
    "row_axis = 0\n",
    "col_axis = 1\n",
    "\n",
    "x = img[0].copy()\n",
    "\n",
    "h, w = x.shape[row_axis], x.shape[col_axis]\n",
    "transform_matrix = transform_matrix_offset_center(rotation_matrix, h, w)\n",
    "x = apply_transform(x, transform_matrix, channel_axis, fill_mode, cval)"
   ]
  },
  {
   "cell_type": "code",
   "execution_count": 109,
   "metadata": {
    "collapsed": true
   },
   "outputs": [],
   "source": [
    "new_img = np.expand_dims(x,0)"
   ]
  },
  {
   "cell_type": "code",
   "execution_count": 110,
   "metadata": {},
   "outputs": [
    {
     "data": {
      "text/plain": [
       "<matplotlib.image.AxesImage at 0x7f661c351a90>"
      ]
     },
     "execution_count": 110,
     "metadata": {},
     "output_type": "execute_result"
    },
    {
     "data": {
      "image/png": "[encoded data removed]",
      "text/plain": [
       "<matplotlib.figure.Figure at 0x7f661c38fdd8>"
      ]
     },
     "metadata": {},
     "output_type": "display_data"
    }
   ],
   "source": [
    "plt.imshow(new_img[0])"
   ]
  },
  {
   "cell_type": "code",
   "execution_count": 111,
   "metadata": {},
   "outputs": [],
   "source": [
    "new_boxed_img = tf.image.draw_bounding_boxes(new_img, new_boxes)\n",
    "new_boxed_img = sess.run(new_boxed_img)"
   ]
  },
  {
   "cell_type": "code",
   "execution_count": 112,
   "metadata": {},
   "outputs": [
    {
     "data": {
      "text/plain": [
       "<matplotlib.image.AxesImage at 0x7f661c337828>"
      ]
     },
     "execution_count": 112,
     "metadata": {},
     "output_type": "execute_result"
    },
    {
     "data": {
      "image/png": "[encoded data removed]",
      "text/plain": [
       "<matplotlib.figure.Figure at 0x7f661c3ac0f0>"
      ]
     },
     "metadata": {},
     "output_type": "display_data"
    }
   ],
   "source": [
    "plt.imshow(new_boxed_img[0])"
   ]
  },
  {
   "cell_type": "code",
   "execution_count": null,
   "metadata": {
    "collapsed": true
   },
   "outputs": [],
   "source": []
  },
  {
   "cell_type": "code",
   "execution_count": null,
   "metadata": {
    "collapsed": true
   },
   "outputs": [],
   "source": []
  },
  {
   "cell_type": "code",
   "execution_count": null,
   "metadata": {
    "collapsed": true
   },
   "outputs": [],
   "source": []
  },
  {
   "cell_type": "code",
   "execution_count": null,
   "metadata": {
    "collapsed": true
   },
   "outputs": [],
   "source": []
  },
  {
   "cell_type": "code",
   "execution_count": null,
   "metadata": {
    "collapsed": true
   },
   "outputs": [],
   "source": []
  },
  {
   "cell_type": "code",
   "execution_count": null,
   "metadata": {
    "collapsed": true
   },
   "outputs": [],
   "source": []
  },
  {
   "cell_type": "code",
   "execution_count": null,
   "metadata": {
    "collapsed": true
   },
   "outputs": [],
   "source": []
  },
  {
   "cell_type": "code",
   "execution_count": null,
   "metadata": {
    "collapsed": true
   },
   "outputs": [],
   "source": []
  },
  {
   "cell_type": "code",
   "execution_count": null,
   "metadata": {
    "collapsed": true
   },
   "outputs": [],
   "source": []
  },
  {
   "cell_type": "code",
   "execution_count": null,
   "metadata": {
    "collapsed": true
   },
   "outputs": [],
   "source": []
  },
  {
   "cell_type": "code",
   "execution_count": null,
   "metadata": {
    "collapsed": true
   },
   "outputs": [],
   "source": []
  },
  {
   "cell_type": "code",
   "execution_count": null,
   "metadata": {
    "collapsed": true
   },
   "outputs": [],
   "source": []
  }
 ],
 "metadata": {
  "kernelspec": {
   "display_name": "Python 3",
   "language": "python",
   "name": "python3"
  },
  "language_info": {
   "codemirror_mode": {
    "name": "ipython",
    "version": 3
   },
   "file_extension": ".py",
   "mimetype": "text/x-python",
   "name": "python",
   "nbconvert_exporter": "python",
   "pygments_lexer": "ipython3",
   "version": "3.5.2"
  }
 },
 "nbformat": 4,
 "nbformat_minor": 2
}

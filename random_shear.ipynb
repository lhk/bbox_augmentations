{
 "cells": [
  {
   "cell_type": "code",
   "execution_count": 1,
   "metadata": {},
   "outputs": [
    {
     "name": "stderr",
     "output_type": "stream",
     "text": [
      "Using TensorFlow backend.\n"
     ]
    }
   ],
   "source": [
    "import numpy as np\n",
    "import matplotlib.pyplot as plt\n",
    "%matplotlib inline\n",
    "\n",
    "import sys\n",
    "sys.path.insert(0, \"/home/lars/libraries/keras/\")\n",
    "from keras.preprocessing.image import *"
   ]
  },
  {
   "cell_type": "code",
   "execution_count": 2,
   "metadata": {
    "collapsed": true
   },
   "outputs": [],
   "source": [
    "img = np.zeros((1000,1000,3))\n",
    "img[400:600, 400:600, :]=1\n",
    "\n",
    "img[300:400, 100:200, :]=1"
   ]
  },
  {
   "cell_type": "code",
   "execution_count": 3,
   "metadata": {
    "collapsed": true
   },
   "outputs": [],
   "source": [
    "def draw_boxes(img, boxes):\n",
    "    draw_img = img.copy()\n",
    "    for box in boxes:\n",
    "        x_min, y_min, x_max, y_max = box\n",
    "        dim_x, dim_y = draw_img.shape[:2]\n",
    "        x_min = int(x_min * dim_x)\n",
    "        x_max = int(x_max * dim_x)\n",
    "        y_min = int(y_min * dim_y)\n",
    "        y_max = int(y_max * dim_y)\n",
    "        \n",
    "        x_min = max(0, x_min)\n",
    "        x_max = min(dim_x, x_max)\n",
    "        y_min = max(0, y_min)\n",
    "        y_max = min(dim_y, y_max)\n",
    "\n",
    "        draw_img[x_min:x_min+5, y_min:y_max]=[1,0,0]\n",
    "        draw_img[x_max-5:x_max, y_min:y_max]=[1,0,0]\n",
    "        draw_img[x_min:x_max, y_min:y_min+5]=[1,0,0]\n",
    "        draw_img[x_min:x_max, y_max-5:y_max]=[1,0,0]\n",
    "    return draw_img\n",
    "\n",
    "def draw_verts(img, verts):\n",
    "    draw_img = img.copy()\n",
    "    for vert in verts:\n",
    "        \n",
    "        x, y = vert\n",
    "        dim_x, dim_y = draw_img.shape[:2]\n",
    "        x_min = int(x * dim_x)\n",
    "        x_max = int(x * dim_x)\n",
    "        y_min = int(y * dim_y)\n",
    "        y_max = int(y * dim_y)\n",
    "        \n",
    "        x_min = x_min-5\n",
    "        x_max = x_max+5\n",
    "        y_min = y_min-5\n",
    "        y_max = y_max+5\n",
    "        \n",
    "        if x_min > x_max:\n",
    "            x_min, x_max = x_max, x_min\n",
    "        \n",
    "        if y_min > y_max:\n",
    "            y_min, y_max = y_max, y_min\n",
    "            \n",
    "        x_min = max(0, x_min)\n",
    "        x_max = min(dim_x, x_max)\n",
    "        y_min = max(0, y_min)\n",
    "        y_max = min(dim_y, y_max)\n",
    "    \n",
    "        \n",
    "        draw_img[x_min:x_max, y_min:y_max]=[0,1,0]\n",
    "    return draw_img"
   ]
  },
  {
   "cell_type": "code",
   "execution_count": 4,
   "metadata": {
    "collapsed": true
   },
   "outputs": [],
   "source": [
    "boxes = np.array([[0.4, 0.4, 0.6, 0.6],\n",
    "                 [0.3, 0.1, 0.4, 0.2]])"
   ]
  },
  {
   "cell_type": "code",
   "execution_count": 5,
   "metadata": {},
   "outputs": [
    {
     "data": {
      "text/plain": [
       "<matplotlib.image.AxesImage at 0x7f441beb0b38>"
      ]
     },
     "execution_count": 5,
     "metadata": {},
     "output_type": "execute_result"
    },
    {
     "data": {
      "image/png": "[encoded data removed]",
      "text/plain": [
       "<matplotlib.figure.Figure at 0x7f44745683c8>"
      ]
     },
     "metadata": {},
     "output_type": "display_data"
    }
   ],
   "source": [
    "draw_img =draw_boxes(img, boxes)\n",
    "plt.imshow(draw_img)"
   ]
  },
  {
   "cell_type": "code",
   "execution_count": 6,
   "metadata": {
    "collapsed": true
   },
   "outputs": [],
   "source": [
    "new_img, new_boxes, new_verts = random_shear_with_boxes(img, boxes, 0.3, row_axis=0, col_axis=1, channel_axis=2)"
   ]
  },
  {
   "cell_type": "code",
   "execution_count": 7,
   "metadata": {},
   "outputs": [
    {
     "data": {
      "text/plain": [
       "<matplotlib.image.AxesImage at 0x7f441bdd7ac8>"
      ]
     },
     "execution_count": 7,
     "metadata": {},
     "output_type": "execute_result"
    },
    {
     "data": {
      "image/png": "[encoded data removed]",
      "text/plain": [
       "<matplotlib.figure.Figure at 0x7f4474e0e390>"
      ]
     },
     "metadata": {},
     "output_type": "display_data"
    }
   ],
   "source": [
    "draw_img = draw_boxes(new_img, new_boxes)\n",
    "draw_img = draw_verts(draw_img, new_verts)\n",
    "plt.imshow(draw_img)"
   ]
  },
  {
   "cell_type": "code",
   "execution_count": null,
   "metadata": {
    "collapsed": true
   },
   "outputs": [],
   "source": []
  },
  {
   "cell_type": "code",
   "execution_count": null,
   "metadata": {
    "collapsed": true
   },
   "outputs": [],
   "source": []
  },
  {
   "cell_type": "code",
   "execution_count": null,
   "metadata": {
    "collapsed": true
   },
   "outputs": [],
   "source": []
  },
  {
   "cell_type": "code",
   "execution_count": null,
   "metadata": {
    "collapsed": true
   },
   "outputs": [],
   "source": []
  }
 ],
 "metadata": {
  "kernelspec": {
   "display_name": "Python 3",
   "language": "python",
   "name": "python3"
  },
  "language_info": {
   "codemirror_mode": {
    "name": "ipython",
    "version": 3
   },
   "file_extension": ".py",
   "mimetype": "text/x-python",
   "name": "python",
   "nbconvert_exporter": "python",
   "pygments_lexer": "ipython3",
   "version": "3.5.2"
  }
 },
 "nbformat": 4,
 "nbformat_minor": 2
}
